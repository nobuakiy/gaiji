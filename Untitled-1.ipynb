{
 "cells": [
  {
   "cell_type": "code",
   "execution_count": 9,
   "metadata": {},
   "outputs": [
    {
     "name": "stdout",
     "output_type": "stream",
     "text": [
      "10\n"
     ]
    }
   ],
   "source": [
    "for ch in b'\\n':\n",
    "    print(ch)"
   ]
  },
  {
   "cell_type": "code",
   "execution_count": 27,
   "metadata": {},
   "outputs": [
    {
     "data": {
      "text/plain": [
       "'瑩'"
      ]
     },
     "execution_count": 27,
     "metadata": {},
     "output_type": "execute_result"
    }
   ],
   "source": [
    "b'\\xE0\\xf0'.decode(\"CP932\")"
   ]
  },
  {
   "cell_type": "code",
   "execution_count": 30,
   "metadata": {},
   "outputs": [
    {
     "data": {
      "text/plain": [
       "b'\\x87@'"
      ]
     },
     "execution_count": 30,
     "metadata": {},
     "output_type": "execute_result"
    }
   ],
   "source": [
    "'①'.encode(\"CP932\")"
   ]
  },
  {
   "cell_type": "code",
   "execution_count": 36,
   "metadata": {},
   "outputs": [
    {
     "name": "stdout",
     "output_type": "stream",
     "text": [
      "0xf100:0xe0f0\n",
      "0xf101:0xe0f1\n"
     ]
    }
   ],
   "source": [
    "trans_map = {}\n",
    "for line in open('TRANS_MAP.csv'):\n",
    "    key_str, value_str = line.split(',')\n",
    "    trans_map[int(key_str, 16)] = int(value_str, 16)\n",
    "for key in trans_map:\n",
    "    print(hex(key) + \":\" + hex(trans_map[key]))"
   ]
  },
  {
   "cell_type": "code",
   "execution_count": 41,
   "metadata": {},
   "outputs": [
    {
     "name": "stdout",
     "output_type": "stream",
     "text": [
      "bytearray(b'12A4')\n"
     ]
    }
   ],
   "source": [
    "input_buffer = b'1234'\n",
    "output_buffer = bytearray(input_buffer)\n",
    "v = memoryview(output_buffer)\n",
    "v[2] = ord(b'A')\n",
    "print(output_buffer)"
   ]
  }
 ],
 "metadata": {
  "kernelspec": {
   "display_name": "base",
   "language": "python",
   "name": "python3"
  },
  "language_info": {
   "codemirror_mode": {
    "name": "ipython",
    "version": 3
   },
   "file_extension": ".py",
   "mimetype": "text/x-python",
   "name": "python",
   "nbconvert_exporter": "python",
   "pygments_lexer": "ipython3",
   "version": "3.9.15"
  },
  "orig_nbformat": 4,
  "vscode": {
   "interpreter": {
    "hash": "6b3ae9db25f2c25b7f35468c526fc67ad74193d76f0bd8aa9c714d6cd102e42c"
   }
  }
 },
 "nbformat": 4,
 "nbformat_minor": 2
}
