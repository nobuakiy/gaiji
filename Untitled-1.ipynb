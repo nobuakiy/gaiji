{
 "cells": [
  {
   "cell_type": "code",
   "execution_count": null,
   "metadata": {},
   "outputs": [],
   "source": [
    "# SuperFastPython.com\n",
    "# example of issuing a task with apply_async() to the process pool\n",
    "from time import sleep\n",
    "from multiprocessing.pool import Pool\n",
    " \n",
    "# task executed in a worker process\n",
    "def task():\n",
    "    # report a message\n",
    "    print(f'Task executing', flush=True)\n",
    "    # block for a moment\n",
    "    sleep(1)\n",
    "    # report a message\n",
    "    print(f'Task done', flush=True)\n",
    " \n",
    "# protect the entry point\n",
    "if __name__ == '__main__':\n",
    "    # create and configure the process pool\n",
    "    pool = Pool()\n",
    "    # issue tasks to the process pool\n",
    "    pool.apply_async(task)\n",
    "    # close the process pool\n",
    "    pool.close()\n",
    "    # wait for all tasks to finish\n",
    "    pool.join()"
   ]
  }
 ],
 "metadata": {
  "kernelspec": {
   "display_name": "Python 3",
   "language": "python",
   "name": "python3"
  },
  "language_info": {
   "codemirror_mode": {
    "name": "ipython",
    "version": 3
   },
   "file_extension": ".py",
   "mimetype": "text/x-python",
   "name": "python",
   "nbconvert_exporter": "python",
   "pygments_lexer": "ipython3",
   "version": "3.10.7"
  },
  "orig_nbformat": 4,
  "vscode": {
   "interpreter": {
    "hash": "aee8b7b246df8f9039afb4144a1f6fd8d2ca17a180786b69acc140d282b71a49"
   }
  }
 },
 "nbformat": 4,
 "nbformat_minor": 2
}
